{
 "cells": [
  {
   "cell_type": "code",
   "execution_count": 1,
   "metadata": {},
   "outputs": [
    {
     "name": "stdout",
     "output_type": "stream",
     "text": [
      "Defaulting to user installation because normal site-packages is not writeable\n",
      "Requirement already satisfied: meteostat in /Users/cem/Library/Python/3.9/lib/python/site-packages (1.6.8)\n",
      "Requirement already satisfied: pytz in /Users/cem/Library/Python/3.9/lib/python/site-packages (from meteostat) (2024.2)\n",
      "Requirement already satisfied: pandas>=1.1 in /Users/cem/Library/Python/3.9/lib/python/site-packages (from meteostat) (2.2.3)\n",
      "Requirement already satisfied: numpy in /Users/cem/Library/Python/3.9/lib/python/site-packages (from meteostat) (2.0.2)\n",
      "Requirement already satisfied: python-dateutil>=2.8.2 in /Users/cem/Library/Python/3.9/lib/python/site-packages (from pandas>=1.1->meteostat) (2.9.0.post0)\n",
      "Requirement already satisfied: tzdata>=2022.7 in /Users/cem/Library/Python/3.9/lib/python/site-packages (from pandas>=1.1->meteostat) (2024.2)\n",
      "Requirement already satisfied: six>=1.5 in /Library/Developer/CommandLineTools/Library/Frameworks/Python3.framework/Versions/3.9/lib/python3.9/site-packages (from python-dateutil>=2.8.2->pandas>=1.1->meteostat) (1.15.0)\n",
      "\u001b[33mWARNING: You are using pip version 21.2.4; however, version 24.3.1 is available.\n",
      "You should consider upgrading via the '/Library/Developer/CommandLineTools/usr/bin/python3 -m pip install --upgrade pip' command.\u001b[0m\n",
      "Note: you may need to restart the kernel to use updated packages.\n"
     ]
    }
   ],
   "source": [
    "pip install meteostat"
   ]
  },
  {
   "cell_type": "code",
   "execution_count": 2,
   "metadata": {},
   "outputs": [
    {
     "name": "stderr",
     "output_type": "stream",
     "text": [
      "FutureWarning: Support for nested sequences for 'parse_dates' in pd.read_csv is deprecated. Combine the desired columns with pd.to_datetime after parsing instead.\n",
      "FutureWarning: Support for nested sequences for 'parse_dates' in pd.read_csv is deprecated. Combine the desired columns with pd.to_datetime after parsing instead.\n",
      "FutureWarning: Support for nested sequences for 'parse_dates' in pd.read_csv is deprecated. Combine the desired columns with pd.to_datetime after parsing instead.\n",
      "FutureWarning: Support for nested sequences for 'parse_dates' in pd.read_csv is deprecated. Combine the desired columns with pd.to_datetime after parsing instead.\n"
     ]
    },
    {
     "name": "stdout",
     "output_type": "stream",
     "text": [
      "            tavg  tmin  tmax  prcp  snow   wdir  wspd  wpgt    pres  tsun\n",
      "time                                                                     \n",
      "2023-01-01   9.1   7.0  12.0   0.0   NaN  324.0   4.4   NaN  1032.1   NaN\n",
      "2023-01-02   7.9   4.6  11.1   0.0   NaN  268.0   5.4   NaN  1031.6   NaN\n",
      "2023-01-03   8.5   4.9  11.0   0.0   NaN  239.0  12.4   NaN  1027.8   NaN\n",
      "2023-01-04   9.5   6.6  11.0   0.1   NaN  307.0  13.5   NaN  1026.9   NaN\n",
      "2023-01-05  10.7   9.0  13.0   0.0   NaN  303.0  10.3   NaN  1022.4   NaN\n",
      "...          ...   ...   ...   ...   ...    ...   ...   ...     ...   ...\n",
      "2023-12-27  13.6  11.0  16.0   0.0   NaN  247.0  11.4   NaN  1022.1   NaN\n",
      "2023-12-28  10.9   8.0  14.0   0.0   NaN  331.0   6.7   NaN  1027.5   NaN\n",
      "2023-12-29   9.9   6.4  13.1   0.0   NaN  263.0   6.8   NaN  1022.7   NaN\n",
      "2023-12-30  11.2   7.0  14.1   0.0   NaN  218.0   4.8   NaN  1020.8   NaN\n",
      "2023-12-31  12.3  10.0  15.0   0.8   NaN  355.0   2.0   NaN  1020.5   NaN\n",
      "\n",
      "[365 rows x 10 columns]\n"
     ]
    }
   ],
   "source": [
    "from meteostat import Point, Daily\n",
    "from datetime import datetime\n",
    "import pandas as pd\n",
    "\n",
    "# 1. Başlangıç ve bitiş tarihini belirleyin\n",
    "start = datetime(2023, 1, 1)  # Başlangıç tarihi\n",
    "end = datetime(2023, 12, 31)  # Bitiş tarihi\n",
    "\n",
    "# 2. Konumu tanımlayın (örnek: İstanbul, Türkiye)\n",
    "location = Point(41.0082, 28.9784)  # Latitude (enlem) ve Longitude (boylam)\n",
    "\n",
    "# 3. Günlük hava durumu verilerini çekin\n",
    "data = Daily(location, start, end)\n",
    "data = data.fetch()\n",
    "\n",
    "# 4. Veriyi inceleyin\n",
    "print(data)\n",
    "\n",
    "# 5. CSV'ye kaydedin (opsiyonel)\n",
    "data.to_csv(\"istanbul_2023_hava_durumu.csv\")"
   ]
  },
  {
   "cell_type": "code",
   "execution_count": 5,
   "metadata": {},
   "outputs": [
    {
     "ename": "KeyError",
     "evalue": "'Column not found: steps'",
     "output_type": "error",
     "traceback": [
      "\u001b[0;31m---------------------------------------------------------------------------\u001b[0m",
      "\u001b[0;31mKeyError\u001b[0m                                  Traceback (most recent call last)",
      "Cell \u001b[0;32mIn[5], line 16\u001b[0m\n\u001b[1;32m     13\u001b[0m data[\u001b[38;5;124m'\u001b[39m\u001b[38;5;124mseason\u001b[39m\u001b[38;5;124m'\u001b[39m] \u001b[38;5;241m=\u001b[39m data[\u001b[38;5;124m'\u001b[39m\u001b[38;5;124mmonth\u001b[39m\u001b[38;5;124m'\u001b[39m]\u001b[38;5;241m.\u001b[39mapply(get_season)\n\u001b[1;32m     15\u001b[0m \u001b[38;5;66;03m# Ortalama adım sayısını hesapla\u001b[39;00m\n\u001b[0;32m---> 16\u001b[0m seasonal_steps \u001b[38;5;241m=\u001b[39m \u001b[43mdata\u001b[49m\u001b[38;5;241;43m.\u001b[39;49m\u001b[43mgroupby\u001b[49m\u001b[43m(\u001b[49m\u001b[38;5;124;43m'\u001b[39;49m\u001b[38;5;124;43mseason\u001b[39;49m\u001b[38;5;124;43m'\u001b[39;49m\u001b[43m)\u001b[49m\u001b[43m[\u001b[49m\u001b[38;5;124;43m'\u001b[39;49m\u001b[38;5;124;43msteps\u001b[39;49m\u001b[38;5;124;43m'\u001b[39;49m\u001b[43m]\u001b[49m\u001b[38;5;241m.\u001b[39mmean()\n\u001b[1;32m     18\u001b[0m \u001b[38;5;66;03m# Bar Chart\u001b[39;00m\n\u001b[1;32m     19\u001b[0m seasonal_steps\u001b[38;5;241m.\u001b[39mplot(kind\u001b[38;5;241m=\u001b[39m\u001b[38;5;124m'\u001b[39m\u001b[38;5;124mbar\u001b[39m\u001b[38;5;124m'\u001b[39m, color\u001b[38;5;241m=\u001b[39m[\u001b[38;5;124m'\u001b[39m\u001b[38;5;124mblue\u001b[39m\u001b[38;5;124m'\u001b[39m, \u001b[38;5;124m'\u001b[39m\u001b[38;5;124mgreen\u001b[39m\u001b[38;5;124m'\u001b[39m, \u001b[38;5;124m'\u001b[39m\u001b[38;5;124morange\u001b[39m\u001b[38;5;124m'\u001b[39m, \u001b[38;5;124m'\u001b[39m\u001b[38;5;124mred\u001b[39m\u001b[38;5;124m'\u001b[39m])\n",
      "File \u001b[0;32m~/Library/Python/3.9/lib/python/site-packages/pandas/core/groupby/generic.py:1951\u001b[0m, in \u001b[0;36mDataFrameGroupBy.__getitem__\u001b[0;34m(self, key)\u001b[0m\n\u001b[1;32m   1944\u001b[0m \u001b[38;5;28;01mif\u001b[39;00m \u001b[38;5;28misinstance\u001b[39m(key, \u001b[38;5;28mtuple\u001b[39m) \u001b[38;5;129;01mand\u001b[39;00m \u001b[38;5;28mlen\u001b[39m(key) \u001b[38;5;241m>\u001b[39m \u001b[38;5;241m1\u001b[39m:\n\u001b[1;32m   1945\u001b[0m     \u001b[38;5;66;03m# if len == 1, then it becomes a SeriesGroupBy and this is actually\u001b[39;00m\n\u001b[1;32m   1946\u001b[0m     \u001b[38;5;66;03m# valid syntax, so don't raise\u001b[39;00m\n\u001b[1;32m   1947\u001b[0m     \u001b[38;5;28;01mraise\u001b[39;00m \u001b[38;5;167;01mValueError\u001b[39;00m(\n\u001b[1;32m   1948\u001b[0m         \u001b[38;5;124m\"\u001b[39m\u001b[38;5;124mCannot subset columns with a tuple with more than one element. \u001b[39m\u001b[38;5;124m\"\u001b[39m\n\u001b[1;32m   1949\u001b[0m         \u001b[38;5;124m\"\u001b[39m\u001b[38;5;124mUse a list instead.\u001b[39m\u001b[38;5;124m\"\u001b[39m\n\u001b[1;32m   1950\u001b[0m     )\n\u001b[0;32m-> 1951\u001b[0m \u001b[38;5;28;01mreturn\u001b[39;00m \u001b[38;5;28;43msuper\u001b[39;49m\u001b[43m(\u001b[49m\u001b[43m)\u001b[49m\u001b[38;5;241;43m.\u001b[39;49m\u001b[38;5;21;43m__getitem__\u001b[39;49m\u001b[43m(\u001b[49m\u001b[43mkey\u001b[49m\u001b[43m)\u001b[49m\n",
      "File \u001b[0;32m~/Library/Python/3.9/lib/python/site-packages/pandas/core/base.py:244\u001b[0m, in \u001b[0;36mSelectionMixin.__getitem__\u001b[0;34m(self, key)\u001b[0m\n\u001b[1;32m    242\u001b[0m \u001b[38;5;28;01melse\u001b[39;00m:\n\u001b[1;32m    243\u001b[0m     \u001b[38;5;28;01mif\u001b[39;00m key \u001b[38;5;129;01mnot\u001b[39;00m \u001b[38;5;129;01min\u001b[39;00m \u001b[38;5;28mself\u001b[39m\u001b[38;5;241m.\u001b[39mobj:\n\u001b[0;32m--> 244\u001b[0m         \u001b[38;5;28;01mraise\u001b[39;00m \u001b[38;5;167;01mKeyError\u001b[39;00m(\u001b[38;5;124mf\u001b[39m\u001b[38;5;124m\"\u001b[39m\u001b[38;5;124mColumn not found: \u001b[39m\u001b[38;5;132;01m{\u001b[39;00mkey\u001b[38;5;132;01m}\u001b[39;00m\u001b[38;5;124m\"\u001b[39m)\n\u001b[1;32m    245\u001b[0m     ndim \u001b[38;5;241m=\u001b[39m \u001b[38;5;28mself\u001b[39m\u001b[38;5;241m.\u001b[39mobj[key]\u001b[38;5;241m.\u001b[39mndim\n\u001b[1;32m    246\u001b[0m     \u001b[38;5;28;01mreturn\u001b[39;00m \u001b[38;5;28mself\u001b[39m\u001b[38;5;241m.\u001b[39m_gotitem(key, ndim\u001b[38;5;241m=\u001b[39mndim)\n",
      "\u001b[0;31mKeyError\u001b[0m: 'Column not found: steps'"
     ]
    }
   ],
   "source": [
    "# Mevsimleri tanımla\n",
    "def get_season(month):\n",
    "    if month in [12, 1, 2]:\n",
    "        return 'Winter'\n",
    "    elif month in [3, 4, 5]:\n",
    "        return 'Spring'\n",
    "    elif month in [6, 7, 8]:\n",
    "        return 'Summer'\n",
    "    else:\n",
    "        return 'Fall'\n",
    "\n",
    "data['month'] = data.index.month  # Tarihten ayı al\n",
    "data['season'] = data['month'].apply(get_season)\n",
    "\n",
    "# Ortalama adım sayısını hesapla\n",
    "seasonal_steps = data.groupby('season')['steps'].mean()\n",
    "\n",
    "# Bar Chart\n",
    "seasonal_steps.plot(kind='bar', color=['blue', 'green', 'orange', 'red'])\n",
    "plt.title('Mevsimlere Göre Günlük Ortalama Adım Sayısı')\n",
    "plt.xlabel('Mevsim')\n",
    "plt.ylabel('Ortalama Adım Sayısı')\n",
    "plt.show()\n"
   ]
  }
 ],
 "metadata": {
  "kernelspec": {
   "display_name": "Python 3",
   "language": "python",
   "name": "python3"
  },
  "language_info": {
   "codemirror_mode": {
    "name": "ipython",
    "version": 3
   },
   "file_extension": ".py",
   "mimetype": "text/x-python",
   "name": "python",
   "nbconvert_exporter": "python",
   "pygments_lexer": "ipython3",
   "version": "3.9.6"
  }
 },
 "nbformat": 4,
 "nbformat_minor": 2
}
