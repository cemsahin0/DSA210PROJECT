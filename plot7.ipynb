{
 "cells": [
  {
   "cell_type": "code",
   "execution_count": 1,
   "metadata": {},
   "outputs": [
    {
     "name": "stdout",
     "output_type": "stream",
     "text": [
      "Defaulting to user installation because normal site-packages is not writeable\n",
      "Requirement already satisfied: meteostat in /Users/cem/Library/Python/3.9/lib/python/site-packages (1.6.8)\n",
      "Requirement already satisfied: numpy in /Users/cem/Library/Python/3.9/lib/python/site-packages (from meteostat) (2.0.2)\n",
      "Requirement already satisfied: pandas>=1.1 in /Users/cem/Library/Python/3.9/lib/python/site-packages (from meteostat) (2.2.3)\n",
      "Requirement already satisfied: pytz in /Users/cem/Library/Python/3.9/lib/python/site-packages (from meteostat) (2024.2)\n",
      "Requirement already satisfied: python-dateutil>=2.8.2 in /Users/cem/Library/Python/3.9/lib/python/site-packages (from pandas>=1.1->meteostat) (2.9.0.post0)\n",
      "Requirement already satisfied: tzdata>=2022.7 in /Users/cem/Library/Python/3.9/lib/python/site-packages (from pandas>=1.1->meteostat) (2024.2)\n",
      "Requirement already satisfied: six>=1.5 in /Library/Developer/CommandLineTools/Library/Frameworks/Python3.framework/Versions/3.9/lib/python3.9/site-packages (from python-dateutil>=2.8.2->pandas>=1.1->meteostat) (1.15.0)\n",
      "\u001b[33mWARNING: You are using pip version 21.2.4; however, version 24.3.1 is available.\n",
      "You should consider upgrading via the '/Library/Developer/CommandLineTools/usr/bin/python3 -m pip install --upgrade pip' command.\u001b[0m\n",
      "Note: you may need to restart the kernel to use updated packages.\n"
     ]
    }
   ],
   "source": [
    "pip install meteostat"
   ]
  },
  {
   "cell_type": "code",
   "execution_count": 2,
   "metadata": {},
   "outputs": [
    {
     "name": "stdout",
     "output_type": "stream",
     "text": [
      "            tavg  tmin  tmax  prcp  snow   wdir  wspd  wpgt    pres  tsun\n",
      "time                                                                     \n",
      "2023-01-01   9.1   7.0  12.0   0.0   NaN  324.0   4.4   NaN  1032.1   NaN\n",
      "2023-01-02   7.9   4.6  11.1   0.0   NaN  268.0   5.4   NaN  1031.6   NaN\n",
      "2023-01-03   8.5   4.9  11.0   0.0   NaN  239.0  12.4   NaN  1027.8   NaN\n",
      "2023-01-04   9.5   6.6  11.0   0.1   NaN  307.0  13.5   NaN  1026.9   NaN\n",
      "2023-01-05  10.7   9.0  13.0   0.0   NaN  303.0  10.3   NaN  1022.4   NaN\n",
      "...          ...   ...   ...   ...   ...    ...   ...   ...     ...   ...\n",
      "2023-12-27  13.6  11.0  16.0   0.0   NaN  247.0  11.4   NaN  1022.1   NaN\n",
      "2023-12-28  10.9   8.0  14.0   0.0   NaN  331.0   6.7   NaN  1027.5   NaN\n",
      "2023-12-29   9.9   6.4  13.1   0.0   NaN  263.0   6.8   NaN  1022.7   NaN\n",
      "2023-12-30  11.2   7.0  14.1   0.0   NaN  218.0   4.8   NaN  1020.8   NaN\n",
      "2023-12-31  12.3  10.0  15.0   0.8   NaN  355.0   2.0   NaN  1020.5   NaN\n",
      "\n",
      "[365 rows x 10 columns]\n"
     ]
    }
   ],
   "source": [
    "from meteostat import Point, Daily\n",
    "from datetime import datetime\n",
    "import pandas as pd\n",
    "\n",
    "# 1. Başlangıç ve bitiş tarihini belirleyin\n",
    "start = datetime(2023, 1, 1)  # Başlangıç tarihi\n",
    "end = datetime(2023, 12, 31)  # Bitiş tarihi\n",
    "\n",
    "# 2. Konumu tanımlayın (örnek: İstanbul, Türkiye)\n",
    "location = Point(41.0082, 28.9784)  # Latitude (enlem) ve Longitude (boylam)\n",
    "\n",
    "# 3. Günlük hava durumu verilerini çekin\n",
    "data = Daily(location, start, end)\n",
    "data = data.fetch()\n",
    "\n",
    "# 4. Veriyi inceleyin\n",
    "print(data)\n",
    "\n",
    "# 5. CSV'ye kaydedin (opsiyonel)\n",
    "data.to_csv(\"istanbul_2023_hava_durumu.csv\")"
   ]
  },
  {
   "cell_type": "code",
   "execution_count": 5,
   "metadata": {},
   "outputs": [
    {
     "ename": "NameError",
     "evalue": "name 'plt' is not defined",
     "output_type": "error",
     "traceback": [
      "\u001b[0;31m---------------------------------------------------------------------------\u001b[0m",
      "\u001b[0;31mNameError\u001b[0m                                 Traceback (most recent call last)",
      "Cell \u001b[0;32mIn[5], line 3\u001b[0m\n\u001b[1;32m      1\u001b[0m \u001b[38;5;28;01mfrom\u001b[39;00m\u001b[38;5;250m \u001b[39m\u001b[38;5;21;01mmpl_toolkits\u001b[39;00m\u001b[38;5;21;01m.\u001b[39;00m\u001b[38;5;21;01mmplot3d\u001b[39;00m\u001b[38;5;250m \u001b[39m\u001b[38;5;28;01mimport\u001b[39;00m Axes3D\n\u001b[0;32m----> 3\u001b[0m fig \u001b[38;5;241m=\u001b[39m \u001b[43mplt\u001b[49m\u001b[38;5;241m.\u001b[39mfigure()\n\u001b[1;32m      4\u001b[0m ax \u001b[38;5;241m=\u001b[39m fig\u001b[38;5;241m.\u001b[39madd_subplot(\u001b[38;5;241m111\u001b[39m, projection\u001b[38;5;241m=\u001b[39m\u001b[38;5;124m'\u001b[39m\u001b[38;5;124m3d\u001b[39m\u001b[38;5;124m'\u001b[39m)\n\u001b[1;32m      6\u001b[0m \u001b[38;5;66;03m# X, Y, Z değerleri\u001b[39;00m\n",
      "\u001b[0;31mNameError\u001b[0m: name 'plt' is not defined"
     ]
    }
   ],
   "source": [
    "from mpl_toolkits.mplot3d import Axes3D\n",
    "\n",
    "fig = plt.figure()\n",
    "ax = fig.add_subplot(111, projection='3d')\n",
    "\n",
    "# X, Y, Z değerleri\n",
    "ax.scatter(data['tavg'], data['prcp'], data['steps'], c=data['steps'], cmap='viridis', s=50)\n",
    "\n",
    "ax.set_title('Sıcaklık, Yağış ve Adım Sayısı')\n",
    "ax.set_xlabel('Ortalama Sıcaklık (°C)')\n",
    "ax.set_ylabel('Yağış Miktarı (mm)')\n",
    "ax.set_zlabel('Adım Sayısı')\n",
    "\n",
    "plt.show()\n"
   ]
  }
 ],
 "metadata": {
  "kernelspec": {
   "display_name": "Python 3",
   "language": "python",
   "name": "python3"
  },
  "language_info": {
   "codemirror_mode": {
    "name": "ipython",
    "version": 3
   },
   "file_extension": ".py",
   "mimetype": "text/x-python",
   "name": "python",
   "nbconvert_exporter": "python",
   "pygments_lexer": "ipython3",
   "version": "3.9.6"
  }
 },
 "nbformat": 4,
 "nbformat_minor": 2
}
